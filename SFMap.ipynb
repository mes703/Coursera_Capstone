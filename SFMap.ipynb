{
    "nbformat_minor": 2, 
    "cells": [
        {
            "source": "import pandas as pd\n\nurl=\"https://ibm.box.com/shared/static/nmcltjmocdi8sd5tk93uembzdec8zyaq.csv\"\ndf=pd.read_csv(url)\n\ndf.drop(['Category','Descript','DayOfWeek','Date','Time','Resolution','Address','X','Y','Location','PdId'], axis=1, inplace=True)\ndf.rename(columns={'PdDistrict':'Neighborhood', 'IncidntNum':'Count'}, inplace=True)\ndf1=df.groupby(['Neighborhood']).size().to_frame('Count').reset_index()\ndf1.head(10)", 
            "cell_type": "code", 
            "metadata": {}, 
            "outputs": [
                {
                    "output_type": "execute_result", 
                    "data": {
                        "text/html": "<div>\n<style scoped>\n    .dataframe tbody tr th:only-of-type {\n        vertical-align: middle;\n    }\n\n    .dataframe tbody tr th {\n        vertical-align: top;\n    }\n\n    .dataframe thead th {\n        text-align: right;\n    }\n</style>\n<table border=\"1\" class=\"dataframe\">\n  <thead>\n    <tr style=\"text-align: right;\">\n      <th></th>\n      <th>Neighborhood</th>\n      <th>Count</th>\n    </tr>\n  </thead>\n  <tbody>\n    <tr>\n      <th>0</th>\n      <td>BAYVIEW</td>\n      <td>14303</td>\n    </tr>\n    <tr>\n      <th>1</th>\n      <td>CENTRAL</td>\n      <td>17666</td>\n    </tr>\n    <tr>\n      <th>2</th>\n      <td>INGLESIDE</td>\n      <td>11594</td>\n    </tr>\n    <tr>\n      <th>3</th>\n      <td>MISSION</td>\n      <td>19503</td>\n    </tr>\n    <tr>\n      <th>4</th>\n      <td>NORTHERN</td>\n      <td>20100</td>\n    </tr>\n    <tr>\n      <th>5</th>\n      <td>PARK</td>\n      <td>8699</td>\n    </tr>\n    <tr>\n      <th>6</th>\n      <td>RICHMOND</td>\n      <td>8922</td>\n    </tr>\n    <tr>\n      <th>7</th>\n      <td>SOUTHERN</td>\n      <td>28445</td>\n    </tr>\n    <tr>\n      <th>8</th>\n      <td>TARAVAL</td>\n      <td>11325</td>\n    </tr>\n    <tr>\n      <th>9</th>\n      <td>TENDERLOIN</td>\n      <td>9942</td>\n    </tr>\n  </tbody>\n</table>\n</div>", 
                        "text/plain": "  Neighborhood  Count\n0      BAYVIEW  14303\n1      CENTRAL  17666\n2    INGLESIDE  11594\n3      MISSION  19503\n4     NORTHERN  20100\n5         PARK   8699\n6     RICHMOND   8922\n7     SOUTHERN  28445\n8      TARAVAL  11325\n9   TENDERLOIN   9942"
                    }, 
                    "execution_count": 1, 
                    "metadata": {}
                }
            ], 
            "execution_count": 1
        }, 
        {
            "source": "!wget --quiet https://cocl.us/sanfran_geojson -O san_francisco.json\n    \nprint('GeoJSON file downloaded!')\n\n!conda install -c conda-forge folium=0.5.0 --yes\nimport folium\n\nprint('Folium installed and imported!')", 
            "cell_type": "code", 
            "metadata": {}, 
            "outputs": [
                {
                    "output_type": "stream", 
                    "name": "stdout", 
                    "text": "GeoJSON file downloaded!\nFetching package metadata .............\nSolving package specifications: "
                }
            ], 
            "execution_count": null
        }, 
        {
            "source": "geo_sf = r'san_francisco.json' # geojson file\nworld_map = folium.Map(location=[37.774, -122.42], zoom_start=12)\n\nimport numpy as np\n\ndf1.columns = list(map(str, df1.columns))\ndf1['Count'] = df1.sum(axis=1)\n\nthreshold_scale = np.linspace(df1['Count'].min(),\n                              df1['Count'].max(),\n                              6, dtype=int)\nthreshold_scale = threshold_scale.tolist() # change the numpy array to a list\nthreshold_scale[-1] = threshold_scale[-1] + 1 # make sure that the last value of the list is greater than the maximum immigration\n\nworld_map.choropleth(\n    geo_data=geo_sf,\n    data=df1,\n    columns=['Neighborhood','Count'],\n    key_on='feature.properties.DISTRICT',\n    threshold_scale=threshold_scale,\n    fill_color='YlOrRd',\n    fill_opacity=0.7,\n    line_opacity=0.2,\n    legend_name='Crime Rate in San Francisco',\n    reset=True\n)\n\n# display map\nworld_map", 
            "cell_type": "code", 
            "metadata": {}, 
            "outputs": [], 
            "execution_count": null
        }, 
        {
            "source": "", 
            "cell_type": "code", 
            "metadata": {}, 
            "outputs": [], 
            "execution_count": null
        }
    ], 
    "metadata": {
        "kernelspec": {
            "display_name": "Python 3.5", 
            "name": "python3", 
            "language": "python"
        }, 
        "language_info": {
            "mimetype": "text/x-python", 
            "nbconvert_exporter": "python", 
            "version": "3.5.5", 
            "name": "python", 
            "pygments_lexer": "ipython3", 
            "file_extension": ".py", 
            "codemirror_mode": {
                "version": 3, 
                "name": "ipython"
            }
        }
    }, 
    "nbformat": 4
}